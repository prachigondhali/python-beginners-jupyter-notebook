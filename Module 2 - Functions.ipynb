{
 "cells": [
  {
   "cell_type": "markdown",
   "metadata": {},
   "source": [
    "# Calling Functions with Arguments\n"
   ]
  },
  {
   "cell_type": "code",
   "execution_count": 1,
   "metadata": {},
   "outputs": [
    {
     "name": "stdout",
     "output_type": "stream",
     "text": [
      "Hello World! I am sending string arguments to print \n",
      "Hiroto Yamaguchi will be in the class for 17 year old students.\n",
      "line 1\n",
      "line 2\n",
      "\n",
      "line 4\n"
     ]
    }
   ],
   "source": [
    "print('Hello World!', 'I am sending string arguments to print ')\n",
    "\n",
    "\n",
    "student_age = 17\n",
    "student_name = \"Hiroto Yamaguchi\"\n",
    "print(student_name,'will be in the class for',student_age, 'year old students.')\n",
    "\n",
    "\n",
    "print(\"line 1\")\n",
    "print(\"line 2\")\n",
    "# line 3 is an empty return - the default when no arguments\n",
    "print()\n",
    "print(\"line 4\")\n"
   ]
  },
  {
   "cell_type": "markdown",
   "metadata": {},
   "source": [
    "## Section 1 Task 1\n",
    "## [ ] increase the number of arguments used in print() to 8 or more \n",
    "##### student_age = 17\n",
    "\n",
    "##### student_name = \"Hiroto Yamaguchi\"\n",
    "\n",
    "##### print(student_name,'will be in the class for',student_age, 'year old students.')\n",
    "\n"
   ]
  },
  {
   "cell_type": "code",
   "execution_count": 5,
   "metadata": {},
   "outputs": [
    {
     "name": "stdout",
     "output_type": "stream",
     "text": [
      "Student Prachi Prakash Gondhali is 23 years old and is studying Science.\n"
     ]
    }
   ],
   "source": [
    "student_firstname = \"Prachi\"\n",
    "student_middlename = \"Prakash\"\n",
    "student_lastname = \"Gondhali\"\n",
    "student_age = 23\n",
    "Subject = \"Science\"\n",
    "\n",
    "print(\"Student\",student_firstname,student_middlename,student_lastname,\"is\",student_age,\"years old and is studying\",Subject+\".\")"
   ]
  },
  {
   "cell_type": "code",
   "execution_count": 6,
   "metadata": {
    "collapsed": true
   },
   "outputs": [],
   "source": [
    "def say_hi():\n",
    "    print(\"Hello there!\")\n",
    "    print(\"goodbye\")"
   ]
  },
  {
   "cell_type": "code",
   "execution_count": 7,
   "metadata": {
    "collapsed": true
   },
   "outputs": [],
   "source": [
    "def three_three():\n",
    "    print(33) \n"
   ]
  },
  {
   "cell_type": "code",
   "execution_count": 8,
   "metadata": {},
   "outputs": [
    {
     "name": "stdout",
     "output_type": "stream",
     "text": [
      "Hello there!\n",
      "goodbye\n",
      "\n",
      "33\n"
     ]
    }
   ],
   "source": [
    "say_hi()\n",
    "print()\n",
    "three_three()\n"
   ]
  },
  {
   "cell_type": "markdown",
   "metadata": {},
   "source": [
    "\n",
    "## Section 1: Task 2\n",
    "## Define and call a simple function   yell_it()\n",
    "##### yell_it()   prints the phrase with \"!\" concatenated to the end\n",
    "##### takes no arguments\n",
    "##### indented function code does the following\n",
    "##### define a variable for called phrase and initialize with a short phrase\n",
    "##### prints phrase as all upper-case letters followed by \"!\"\n",
    "##### call   yell_it   at the bottom of the cell after the function  def (Tip: no indentation should be used)\n"
   ]
  },
  {
   "cell_type": "markdown",
   "metadata": {},
   "source": [
    "def yell_it():\n",
    "    phrase = \"Good Morning\"\n",
    "    print(phrase.upper(),\"!\")\n",
    "    \n",
    "yell_it()"
   ]
  },
  {
   "cell_type": "markdown",
   "metadata": {},
   "source": [
    "## Section 1: Task 3\n",
    "##### Define yell_this() and call with variable argument\n",
    "##### define variable   words_to_yell   as a string gathered from user  input()\n",
    "##### Call  yell_this()  with   words_to_yell  as argument\n",
    "##### get user input() for the string words_to_yell"
   ]
  },
  {
   "cell_type": "code",
   "execution_count": 12,
   "metadata": {},
   "outputs": [
    {
     "name": "stdout",
     "output_type": "stream",
     "text": [
      "Hello...Good Morning!\n",
      "Hello...Good Morning!\n"
     ]
    }
   ],
   "source": [
    "def yell_this(words_to_yell):\n",
    "    print(words_to_yell)\n",
    "    \n",
    "words_to_yell = input()\n",
    "yell_this(words_to_yell)"
   ]
  },
  {
   "cell_type": "code",
   "execution_count": 13,
   "metadata": {},
   "outputs": [
    {
     "ename": "SyntaxError",
     "evalue": "invalid syntax (<ipython-input-13-5f079fd23302>, line 1)",
     "output_type": "error",
     "traceback": [
      "\u001b[1;36m  File \u001b[1;32m\"<ipython-input-13-5f079fd23302>\"\u001b[1;36m, line \u001b[1;32m1\u001b[0m\n\u001b[1;33m    def 123name():\u001b[0m\n\u001b[1;37m          ^\u001b[0m\n\u001b[1;31mSyntaxError\u001b[0m\u001b[1;31m:\u001b[0m invalid syntax\n"
     ]
    }
   ],
   "source": [
    "def 123name():\n",
    "    print(\"Hi\")"
   ]
  },
  {
   "cell_type": "code",
   "execution_count": 14,
   "metadata": {
    "collapsed": true
   },
   "outputs": [],
   "source": [
    "def add_num(num_1 = 10):\n",
    "    print(num_1 + num_1)"
   ]
  },
  {
   "cell_type": "code",
   "execution_count": 15,
   "metadata": {},
   "outputs": [
    {
     "name": "stdout",
     "output_type": "stream",
     "text": [
      "20\n"
     ]
    }
   ],
   "source": [
    "add_num(10)"
   ]
  },
  {
   "cell_type": "code",
   "execution_count": 16,
   "metadata": {},
   "outputs": [
    {
     "name": "stdout",
     "output_type": "stream",
     "text": [
      "20\n"
     ]
    }
   ],
   "source": [
    "add_num()"
   ]
  },
  {
   "cell_type": "markdown",
   "metadata": {},
   "source": [
    "## Section 2:Task 1\n",
    "##### Doctor: a function that adds the \"Doctor\" title to a name\n",
    "##### Define function make_doctor()  that takes a parameter name\n",
    "##### get user input for variable full_name\n",
    "##### call the function using full_name   as argument\n",
    "##### print the return value\n",
    "#### create and call make_doctor() with full_name argument from user input - then print the return value\n"
   ]
  },
  {
   "cell_type": "code",
   "execution_count": 17,
   "metadata": {},
   "outputs": [
    {
     "name": "stdout",
     "output_type": "stream",
     "text": [
      "Prachi Prakash Gondhali\n"
     ]
    },
    {
     "data": {
      "text/plain": [
       "'Prachi Prakash Gondhali'"
      ]
     },
     "execution_count": 17,
     "metadata": {},
     "output_type": "execute_result"
    }
   ],
   "source": [
    "def make_doctor(name):\n",
    "    return name\n",
    "\n",
    "full_name = input()\n",
    "\n",
    "make_doctor(full_name)\n",
    "    "
   ]
  },
  {
   "cell_type": "code",
   "execution_count": 18,
   "metadata": {},
   "outputs": [
    {
     "name": "stdout",
     "output_type": "stream",
     "text": [
      "SCHEDULE: [1st] Mathematics, [2nd] History\n"
     ]
    }
   ],
   "source": [
    "def make_schedule(period1, period2):\n",
    "    schedule = (\"[1st] \" + period1.title() + \", [2nd] \" + period2.title())\n",
    "    return schedule\n",
    "\n",
    "student_schedule = make_schedule(\"mathematics\", \"history\")\n",
    "print(\"SCHEDULE:\", student_schedule)\n"
   ]
  },
  {
   "cell_type": "markdown",
   "metadata": {},
   "source": [
    "## Section 2: Task 2\n",
    "##### Define make_schedule() adding a 3rd period to\n",
    "##### Start with the above example code\n",
    "##### add a parameter period_3\n",
    "##### update function code to add period_3 to the schedule\n",
    "##### call student_schedule() with an additional argument such as 'science'\n",
    "##### print the schedule\n",
    "### add a 3rd period parameter to make_schedule\n",
    "### Optional - print a schedule for 6 classes (Tip: perhaps let the function make this easy)\n"
   ]
  },
  {
   "cell_type": "code",
   "execution_count": 20,
   "metadata": {},
   "outputs": [
    {
     "name": "stdout",
     "output_type": "stream",
     "text": [
      "SCHEDULE: ('[1st]', 'Mathematics', '[2nd]', 'History', '[3rd]', 'Physics')\n"
     ]
    }
   ],
   "source": [
    "def make_schedule(period1, period2, period3):\n",
    "    schedule = (\"[1st]\",period1.title(),\"[2nd]\",period2.title(),\"[3rd]\",period3.title())\n",
    "    return schedule\n",
    "\n",
    "student_schedule = make_schedule(\"mathematics\", \"history\", \"physics\")\n",
    "print(\"SCHEDULE:\", student_schedule)"
   ]
  },
  {
   "cell_type": "code",
   "execution_count": 22,
   "metadata": {},
   "outputs": [
    {
     "name": "stdout",
     "output_type": "stream",
     "text": [
      "Hi\n"
     ]
    }
   ],
   "source": [
    "def test():\n",
    "    \n",
    "    return \"Hi\"\n",
    "\n",
    "print(test())"
   ]
  },
  {
   "cell_type": "code",
   "execution_count": 23,
   "metadata": {},
   "outputs": [
    {
     "data": {
      "text/plain": [
       "200"
      ]
     },
     "execution_count": 23,
     "metadata": {},
     "output_type": "execute_result"
    }
   ],
   "source": [
    "def add_num(num_1 = 10):\n",
    "    return num_1 + num_1\n",
    "\n",
    "add_num(100)"
   ]
  },
  {
   "cell_type": "code",
   "execution_count": 24,
   "metadata": {},
   "outputs": [
    {
     "data": {
      "text/plain": [
       "110"
      ]
     },
     "execution_count": 24,
     "metadata": {},
     "output_type": "execute_result"
    }
   ],
   "source": [
    "def add_numbers(num_1, num_2 = 10):\n",
    "    return num_1 + num_2\n",
    "\n",
    "add_numbers(100)"
   ]
  },
  {
   "cell_type": "code",
   "execution_count": 25,
   "metadata": {},
   "outputs": [
    {
     "ename": "NameError",
     "evalue": "name 'hat_available' is not defined",
     "output_type": "error",
     "traceback": [
      "\u001b[1;31m---------------------------------------------------------------------------\u001b[0m",
      "\u001b[1;31mNameError\u001b[0m                                 Traceback (most recent call last)",
      "\u001b[1;32m<ipython-input-25-c73bf0588360>\u001b[0m in \u001b[0;36m<module>\u001b[1;34m()\u001b[0m\n\u001b[1;32m----> 1\u001b[1;33m \u001b[0mhave_hat\u001b[0m \u001b[1;33m=\u001b[0m \u001b[0mhat_available\u001b[0m\u001b[1;33m(\u001b[0m\u001b[1;34m'green'\u001b[0m\u001b[1;33m)\u001b[0m\u001b[1;33m\u001b[0m\u001b[0m\n\u001b[0m\u001b[0;32m      2\u001b[0m \u001b[1;33m\u001b[0m\u001b[0m\n\u001b[0;32m      3\u001b[0m \u001b[0mprint\u001b[0m\u001b[1;33m(\u001b[0m\u001b[1;34m'hat available is'\u001b[0m\u001b[1;33m,\u001b[0m \u001b[0mhave_hat\u001b[0m\u001b[1;33m)\u001b[0m\u001b[1;33m\u001b[0m\u001b[0m\n\u001b[0;32m      4\u001b[0m \u001b[1;33m\u001b[0m\u001b[0m\n\u001b[0;32m      5\u001b[0m \u001b[1;32mdef\u001b[0m \u001b[0mhat_available\u001b[0m\u001b[1;33m(\u001b[0m\u001b[0mcolor\u001b[0m\u001b[1;33m)\u001b[0m\u001b[1;33m:\u001b[0m\u001b[1;33m\u001b[0m\u001b[0m\n",
      "\u001b[1;31mNameError\u001b[0m: name 'hat_available' is not defined"
     ]
    }
   ],
   "source": [
    "have_hat = hat_available('green')  \n",
    "  \n",
    "print('hat available is', have_hat)\n",
    "\n",
    "def hat_available(color):\n",
    "    hat_colors = 'black, red, blue, green, white, grey, brown, pink'\n",
    "    # return Boolean\n",
    "    return(color.lower() in hat_colors)\n",
    "\n",
    "\n"
   ]
  },
  {
   "cell_type": "markdown",
   "metadata": {},
   "source": [
    "## Section 3: Task 1\n",
    "##### Change the Sequence to fix the NameError\n",
    "##### fix the code sequence so the hat_available() function is available when called and the code runs without error\n",
    "##### fix the sequence of the code to remove the NameError\n",
    "\n",
    "##### have_hat = hat_available('green')  \n",
    "  \n",
    "##### print('hat available is', have_hat)\n",
    "\n",
    "##### def hat_available(color):\n",
    "#####    hat_colors = 'black, red, blue, green, white, grey, brown, pink'\n",
    "#####    return(color.lower() in hat_colors)\n",
    "\n",
    "\n"
   ]
  },
  {
   "cell_type": "code",
   "execution_count": 26,
   "metadata": {},
   "outputs": [
    {
     "name": "stdout",
     "output_type": "stream",
     "text": [
      "hat available is True\n"
     ]
    }
   ],
   "source": [
    "def hat_available(color):\n",
    "    hat_colors = 'black, red, blue, green, white, grey, brown, pink'\n",
    "    # return Boolean\n",
    "    return(color.lower() in hat_colors)\n",
    "\n",
    "have_hat = hat_available('green')\n",
    "print('hat available is', have_hat)"
   ]
  },
  {
   "cell_type": "markdown",
   "metadata": {},
   "source": [
    "## Section 3: Task 2\n",
    "##### Program: bird_available\n",
    "##### The program should ask for user to \"input a bird name to check for availability\" and print a statement informing of availability\n",
    "##### create this program with a Boolean function bird_available()\n",
    "##### has parameter that takes the name of a type of bird\n",
    "##### for this exercise the variable bird_types = 'crow robin parrot eagle sandpiper hawk pigeon'\n",
    "##### return True or False (we are making a Boolean function)\n",
    "##### call the function using the name of a bird type from user input\n",
    "##### print a sentence that indicates the availability of the type of bird checked\n",
    "# [ ] create function bird_available\n",
    "\n",
    "# [ ] user input\n",
    "\n",
    "# [ ] call bird_available\n",
    "\n",
    "# [ ] print availability status\n"
   ]
  },
  {
   "cell_type": "code",
   "execution_count": 28,
   "metadata": {},
   "outputs": [
    {
     "name": "stdout",
     "output_type": "stream",
     "text": [
      "Enter a bird: chetan\n",
      "chetan available in bird_types:  False\n"
     ]
    }
   ],
   "source": [
    "def bird_available(bird):\n",
    "     bird_types = 'crow robin parrot eagle sandpiper hawk pigeon'\n",
    "     return bird.lower() in bird_types.lower()\n",
    "    \n",
    "bird = input(\"Enter a bird: \")\n",
    "print(bird,\"available in bird_types: \",bird_available(bird))\n",
    "\n",
    "\n"
   ]
  },
  {
   "cell_type": "markdown",
   "metadata": {},
   "source": [
    "## Section 3: Task 3\n",
    "### Fix The Error\n",
    "#### define function how_many\n",
    "##### how_many():\n",
    "#####    requested = input(\"enter how many you want: \")\n",
    "#####    return requested\n",
    "\n",
    "#### get the number_needed\n",
    "##### number_needed = how_many()\n",
    "##### print(number_needed, \"will be ordered\")\n",
    "\n",
    "\n"
   ]
  },
  {
   "cell_type": "code",
   "execution_count": 29,
   "metadata": {},
   "outputs": [
    {
     "name": "stdout",
     "output_type": "stream",
     "text": [
      "enter how many you want: 10\n",
      "10 will be ordered\n"
     ]
    }
   ],
   "source": [
    "def how_many():\n",
    "    requested = input(\"enter how many you want: \")\n",
    "    return requested\n",
    "\n",
    "number_needed = how_many()\n",
    "print(number_needed,\"will be ordered\")"
   ]
  },
  {
   "cell_type": "markdown",
   "metadata": {},
   "source": [
    "## Section 3: Tasks\n",
    "#### [ ] define and call a function short_rhyme() that prints a 2 line rhyme\n",
    "\n",
    "\n",
    "\n",
    "\n",
    "#### [ ] define (def) a simple function: title_it() and call the function\n",
    "#### - has a string parameter: msg\n",
    "#### - prints msg in Title Case\n",
    "\n",
    "\n",
    "\n",
    "\n",
    "#### [ ] get user input with prompt \"what is the title?\" \n",
    "#### [ ] call title_it() using input for the string argument\n",
    "\n",
    "\n",
    "\n",
    "\n",
    "#### [ ] define title_it_rtn() which returns a titled string instead of printing\n",
    "#### [ ] call title_it_rtn() using input for the string argument and print the result\n"
   ]
  },
  {
   "cell_type": "code",
   "execution_count": 33,
   "metadata": {},
   "outputs": [
    {
     "name": "stdout",
     "output_type": "stream",
     "text": [
      "What is the title?Good Afternoon!\n",
      "Good Afternoon!\n"
     ]
    },
    {
     "data": {
      "text/plain": [
       "'Good Afternoon!'"
      ]
     },
     "execution_count": 33,
     "metadata": {},
     "output_type": "execute_result"
    }
   ],
   "source": [
    "def short_rhyme():\n",
    "    print(\"Hi...Good Afternoon!\")\n",
    "    \n",
    "def title_it(msg):\n",
    "    print(msg.title())\n",
    "    \n",
    "msg = input(\"What is the title?\")\n",
    "\n",
    "title_it(msg)\n",
    "\n",
    "def title_it_rtn(msg):\n",
    "    return msg.title()\n",
    "\n",
    "title_it_rtn(msg)\n",
    "    "
   ]
  },
  {
   "cell_type": "markdown",
   "metadata": {},
   "source": [
    "## Program: bookstore()\n",
    "##### create and test bookstore()\n",
    "##### bookstore() takes 2 string arguments: book & price\n",
    "##### bookstore returns a string in sentence form\n",
    "##### bookstore() should call title_it_rtn() with book parameter\n",
    "##### gather input for book_entry and price_entry to use in calling bookstore()\n",
    "##### print the return value of bookstore()\n",
    "##### example of output:Title: The Adventures Of Sherlock Holmes, costs $12.99\n",
    "##### create, call and test bookstore() function\n"
   ]
  },
  {
   "cell_type": "code",
   "execution_count": 43,
   "metadata": {},
   "outputs": [
    {
     "name": "stdout",
     "output_type": "stream",
     "text": [
      "I Too Had A Love Story costs, Rs. 250\n"
     ]
    }
   ],
   "source": [
    "def bookstore(book, price):\n",
    "    title = title_it_rtn(book)\n",
    "    return print(title,\"costs,\",price)\n",
    "\n",
    "book_entry = \"I too had a love story\"\n",
    "price_entry = \"Rs. 250\"\n",
    "bookstore(book_entry,price_entry)\n",
    "\n",
    "\n",
    "def title_it_rtn(msg):\n",
    "    return msg.title()\n",
    "\n"
   ]
  },
  {
   "cell_type": "markdown",
   "metadata": {},
   "source": [
    "## Fix the error\n",
    "##### def make_greeting(name, greeting = \"Hello\"):\n",
    "#####     return (greeting + \" \" + name + \"!\")\n",
    "\n",
    "### get name and greeting, send to make_greeting \n",
    "##### print(make_greeting(get_name(), get_greeting()))\n",
    "\n",
    "##### def get_name():\n",
    "#####    name_entry = input(\"enter a name: \")\n",
    "#####    return name_entry\n",
    "\n",
    "##### def get_greeting():\n",
    "#####    greeting_entry = input(\"enter a greeting: \")\n",
    "#####    return greeting_entry\n",
    "\n"
   ]
  },
  {
   "cell_type": "code",
   "execution_count": 46,
   "metadata": {},
   "outputs": [
    {
     "name": "stdout",
     "output_type": "stream",
     "text": [
      "enter a name: Prachi\n",
      "enter a greeting: Hello\n",
      "Hello Prachi!\n"
     ]
    }
   ],
   "source": [
    "def make_greeting(name, greeting = \"Hello\"):\n",
    "    return (greeting + \" \" + name + \"!\")\n",
    "\n",
    "def get_name():\n",
    "    name_entry = input(\"enter a name: \")\n",
    "    return name_entry\n",
    "\n",
    "def get_greeting():\n",
    "    greeting_entry = input(\"enter a greeting: \")\n",
    "    return greeting_entry\n",
    "\n",
    "print(make_greeting(get_name(), get_greeting()))\n",
    "\n"
   ]
  },
  {
   "cell_type": "code",
   "execution_count": null,
   "metadata": {
    "collapsed": true
   },
   "outputs": [],
   "source": []
  }
 ],
 "metadata": {
  "kernelspec": {
   "display_name": "Python 3",
   "language": "python",
   "name": "python3"
  },
  "language_info": {
   "codemirror_mode": {
    "name": "ipython",
    "version": 3
   },
   "file_extension": ".py",
   "mimetype": "text/x-python",
   "name": "python",
   "nbconvert_exporter": "python",
   "pygments_lexer": "ipython3",
   "version": "3.6.3"
  }
 },
 "nbformat": 4,
 "nbformat_minor": 2
}
