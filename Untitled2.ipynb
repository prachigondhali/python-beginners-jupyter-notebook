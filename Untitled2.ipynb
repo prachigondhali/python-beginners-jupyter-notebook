{
 "cells": [
  {
   "cell_type": "code",
   "execution_count": 13,
   "metadata": {},
   "outputs": [
    {
     "name": "stdout",
     "output_type": "stream",
     "text": [
      "Guess the letter: a\n",
      "a\n",
      "S a 0\n",
      "A\n",
      "Guessed Wrong\n",
      "Guess the letter: b\n",
      "b\n",
      "S b 1\n",
      "B\n",
      "Guessed Wrong\n",
      "Guess the letter: s\n",
      "s\n",
      "S s 2\n",
      "S\n",
      "Guessed correct!\n",
      "True\n"
     ]
    }
   ],
   "source": [
    "def letter_guess(letter,tries):\n",
    "    \n",
    "    if tries<3:\n",
    "        guess = input(\"Guess the letter: \")\n",
    "        print(guess)\n",
    "        \n",
    "        result = check_guess(letter,guess,tries)\n",
    "       \n",
    "        if result == True:\n",
    "            return \"True\"\n",
    "    else:\n",
    "        print(\"Game Over\")\n",
    "\n",
    "def check_guess(letter,guess,tries):\n",
    "    print(letter,guess,tries)\n",
    "    print(guess.upper())\n",
    "    \n",
    "    if letter == guess.upper():\n",
    "        print(\"Guessed correct!\")\n",
    "        print(letter == guess.upper())\n",
    "        return \"True\"\n",
    "    else:\n",
    "        tries=tries+1\n",
    "        print(\"Guessed Wrong\")\n",
    "        letter_guess(letter,tries)\n",
    "        \n",
    "            \n",
    "letter = 'S'\n",
    "tries = 0            \n",
    "letter_guess(letter,tries)\n",
    " \n"
   ]
  },
  {
   "cell_type": "code",
   "execution_count": null,
   "metadata": {
    "collapsed": true
   },
   "outputs": [],
   "source": []
  }
 ],
 "metadata": {
  "kernelspec": {
   "display_name": "Python 3",
   "language": "python",
   "name": "python3"
  },
  "language_info": {
   "codemirror_mode": {
    "name": "ipython",
    "version": 3
   },
   "file_extension": ".py",
   "mimetype": "text/x-python",
   "name": "python",
   "nbconvert_exporter": "python",
   "pygments_lexer": "ipython3",
   "version": "3.6.3"
  }
 },
 "nbformat": 4,
 "nbformat_minor": 2
}
