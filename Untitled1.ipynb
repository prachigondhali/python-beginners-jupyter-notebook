{
 "cells": [
  {
   "cell_type": "code",
   "execution_count": 1,
   "metadata": {},
   "outputs": [
    {
     "name": "stdout",
     "output_type": "stream",
     "text": [
      "enter somethings eaten in last 24 hrs: seafood, diary, milkshake, chicken, tea\n",
      "True\n",
      "False\n",
      "True\n",
      "False\n"
     ]
    }
   ],
   "source": [
    "# Create Allergy check code\n",
    "# then PASTE THIS CODE into edX\n",
    "\n",
    "# [ ] get input for input_test variable\n",
    "input_test = input(\"enter somethings eaten in last 24 hrs: \")\n",
    "\n",
    "# [ ] print \"True\" message if \"dairy\" is in the input or False message if not\n",
    "\n",
    "print('diary'.lower() in input_test.lower())\n",
    "\n",
    "# [ ] print True message if \"nuts\" is in the input or False if not\n",
    "print('nuts'.lower() in input_test.lower())\n",
    "\n",
    "# [ ] Challenge: Check if \"seafood\" is in the input - print message\n",
    "print('seafood'.lower() in input_test.lower())\n",
    "\n",
    "# [ ] Challenge: Check if \"chocolate\" is in the input - print message\n",
    "print('chocolate'.lower() in input_test.lower())"
   ]
  },
  {
   "cell_type": "code",
   "execution_count": null,
   "metadata": {
    "collapsed": true
   },
   "outputs": [],
   "source": []
  }
 ],
 "metadata": {
  "kernelspec": {
   "display_name": "Python 3",
   "language": "python",
   "name": "python3"
  },
  "language_info": {
   "codemirror_mode": {
    "name": "ipython",
    "version": 3
   },
   "file_extension": ".py",
   "mimetype": "text/x-python",
   "name": "python",
   "nbconvert_exporter": "python",
   "pygments_lexer": "ipython3",
   "version": "3.6.3"
  }
 },
 "nbformat": 4,
 "nbformat_minor": 2
}
