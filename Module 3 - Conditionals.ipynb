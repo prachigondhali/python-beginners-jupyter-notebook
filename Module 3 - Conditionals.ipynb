{
 "cells": [
  {
   "cell_type": "markdown",
   "metadata": {},
   "source": [
    "# Module 3- Section 1: Conditionals: Boolean Strings"
   ]
  },
  {
   "cell_type": "code",
   "execution_count": 1,
   "metadata": {},
   "outputs": [
    {
     "name": "stdout",
     "output_type": "stream",
     "text": [
      "True means do something\n",
      "enjoy some hot tea!\n",
      "how have you been?\n"
     ]
    }
   ],
   "source": [
    "if True:\n",
    "    print(\"True means do something\")\n",
    "else:\n",
    "    print(\"Not True means do something else\")\n",
    "\n",
    "\n",
    "hot_tea = True\n",
    "\n",
    "if hot_tea:\n",
    "    print(\"enjoy some hot tea!\")\n",
    "else:\n",
    "    print(\"enjoy some tea, and perhaps try hot tea next time.\")\n",
    "\n",
    "\n",
    "someone_i_know = False\n",
    "if someone_i_know:\n",
    "    print(\"how have you been?\")\n",
    "else:\n",
    "    # use pass if there is no need to execute code \n",
    "    pass\n",
    "\n",
    "\n",
    "# changed the value of someone_i_know\n",
    "someone_i_know = True\n",
    "if someone_i_know:\n",
    "    print(\"how have you been?\")\n",
    "else:\n",
    "    pass\n"
   ]
  },
  {
   "cell_type": "code",
   "execution_count": 2,
   "metadata": {},
   "outputs": [
    {
     "name": "stdout",
     "output_type": "stream",
     "text": [
      "Enter the title of a favorite book: one\n",
      "one - consider capitalization throughout for book titles.\n"
     ]
    }
   ],
   "source": [
    "favorite_book = input(\"Enter the title of a favorite book: \")\n",
    "\n",
    "if favorite_book.istitle():\n",
    "    print(favorite_book, \"- nice capitalization in that title!\")\n",
    "else:\n",
    "    print(favorite_book, \"- consider capitalization throughout for book titles.\")\n"
   ]
  },
  {
   "cell_type": "code",
   "execution_count": 3,
   "metadata": {},
   "outputs": [
    {
     "name": "stdout",
     "output_type": "stream",
     "text": [
      "enter a positive integer number: 20\n",
      "20 is a positive integer\n"
     ]
    }
   ],
   "source": [
    "a_number = input(\"enter a positive integer number: \")\n",
    "\n",
    "if a_number.isdigit():\n",
    "    print(a_number, \"is a positive integer\")\n",
    "else:\n",
    "    print(a_number, \"is not a positive integer\")\n"
   ]
  },
  {
   "cell_type": "code",
   "execution_count": 4,
   "metadata": {
    "collapsed": true
   },
   "outputs": [],
   "source": [
    "if a_number.isalpha():\n",
    "    print(a_number, \"is more like a word\")\n",
    "else:\n",
    "    pass\n",
    "\n",
    "\n"
   ]
  },
  {
   "cell_type": "code",
   "execution_count": 5,
   "metadata": {},
   "outputs": [
    {
     "name": "stdout",
     "output_type": "stream",
     "text": [
      "\"enter a type of vehicle that starts with \"B\": Bike\n",
      "Bike starts with \"B\"\n"
     ]
    }
   ],
   "source": [
    "vehicle_type = input('\"enter a type of vehicle that starts with \"B\": ')\n",
    "\n",
    "if vehicle_type.upper().startswith(\"B\"):\n",
    "    print(vehicle_type, 'starts with \"B\"')\n",
    "else:\n",
    "    print(vehicle_type, 'does not start with \"B\"')\n"
   ]
  },
  {
   "cell_type": "code",
   "execution_count": 6,
   "metadata": {},
   "outputs": [
    {
     "name": "stdout",
     "output_type": "stream",
     "text": [
      "welcome is in lower case\n",
      "I have $3 is not in lower case\n"
     ]
    }
   ],
   "source": [
    "test_string_1 = \"welcome\"\n",
    "test_string_2 = \"I have $3\"\n",
    "# [ ] use if, else to test for islower() for the 2 strings\n",
    "\n",
    "\n",
    "test_string_1 = \"welcome\"\n",
    "test_string_2 = \"I have $3\"\n",
    "\n",
    "if test_string_1.islower():\n",
    "    print(test_string_1,\"is in lower case\")\n",
    "else:\n",
    "    print(test_string_1,\"is not in lower case\")\n",
    "    \n",
    "if test_string_2.islower():\n",
    "    print(test_string_2,\"is in lower case\")\n",
    "else:\n",
    "    print(test_string_2,\"is not in lower case\")\n"
   ]
  },
  {
   "cell_type": "code",
   "execution_count": 10,
   "metadata": {
    "collapsed": true
   },
   "outputs": [],
   "source": [
    "test_string_1 = \"welcome\"\n",
    "test_string_2 = \"I have $3\"\n",
    "test_string_3 = \"With a function it's efficient to repeat code\"\n"
   ]
  },
  {
   "cell_type": "code",
   "execution_count": 13,
   "metadata": {},
   "outputs": [
    {
     "ename": "NameError",
     "evalue": "name 'test_string' is not defined",
     "output_type": "error",
     "traceback": [
      "\u001b[1;31m---------------------------------------------------------------------------\u001b[0m",
      "\u001b[1;31mNameError\u001b[0m                                 Traceback (most recent call last)",
      "\u001b[1;32m<ipython-input-13-cda03b6bdd6a>\u001b[0m in \u001b[0;36m<module>\u001b[1;34m()\u001b[0m\n\u001b[0;32m      3\u001b[0m \u001b[0mtest_string_3\u001b[0m \u001b[1;33m=\u001b[0m \u001b[1;34m\"With a function it's efficient to repeat code\"\u001b[0m\u001b[1;33m\u001b[0m\u001b[0m\n\u001b[0;32m      4\u001b[0m \u001b[1;33m\u001b[0m\u001b[0m\n\u001b[1;32m----> 5\u001b[1;33m \u001b[1;32mif\u001b[0m \u001b[0mtest_string\u001b[0m\u001b[1;33m.\u001b[0m\u001b[0mstartswith\u001b[0m\u001b[1;33m(\u001b[0m\u001b[1;34m'w'\u001b[0m\u001b[1;33m)\u001b[0m\u001b[1;33m:\u001b[0m\u001b[1;33m\u001b[0m\u001b[0m\n\u001b[0m\u001b[0;32m      6\u001b[0m     \u001b[0mprint\u001b[0m\u001b[1;33m(\u001b[0m\u001b[0mtest_string\u001b[0m\u001b[1;33m,\u001b[0m\u001b[1;34m\":\"\u001b[0m\u001b[1;33m,\u001b[0m\u001b[1;34m\"starts with w\"\u001b[0m\u001b[1;33m)\u001b[0m\u001b[1;33m\u001b[0m\u001b[0m\n\u001b[0;32m      7\u001b[0m \u001b[1;32melse\u001b[0m\u001b[1;33m:\u001b[0m\u001b[1;33m\u001b[0m\u001b[0m\n",
      "\u001b[1;31mNameError\u001b[0m: name 'test_string' is not defined"
     ]
    }
   ],
   "source": [
    "test_string_1 = \"welcome\"\n",
    "test_string_2 = \"I have $3\"\n",
    "test_string_3 = \"With a function it's efficient to repeat code\"\n",
    "\n",
    "if test_string.startswith('w'):\n",
    "    print(test_string,\":\",\"starts with w\")\n",
    "else:\n",
    "    print(test_string,\":\",\"doesn't start with w\")\n",
    "\n",
    "\n",
    "\n",
    "w_start_test(test_string_1)\n",
    "w_start_test(test_string_2)\n",
    "w_start_test(test_string_3)\n"
   ]
  },
  {
   "cell_type": "code",
   "execution_count": 14,
   "metadata": {},
   "outputs": [
    {
     "name": "stdout",
     "output_type": "stream",
     "text": [
      "x was 21\n",
      "now x is 25\n"
     ]
    }
   ],
   "source": [
    "x = 21\n",
    "if x > 25:\n",
    "    print(\"x is already bigger than 25\")\n",
    "else:\n",
    "    print(\"x was\", x)\n",
    "    x = 25\n",
    "    print(\"now x is\", x)\n",
    "\n",
    "\n"
   ]
  },
  {
   "cell_type": "code",
   "execution_count": 15,
   "metadata": {},
   "outputs": [
    {
     "name": "stdout",
     "output_type": "stream",
     "text": [
      "Pass: x + 18 is equal to 36\n"
     ]
    }
   ],
   "source": [
    "x = 18\n",
    "if x + 18 == x + x:\n",
    "    print(\"Pass: x + 18 is equal to\", x + x)\n",
    "else:\n",
    "    print(\"Fail: x + 18 is not equal to\", x + x)\n"
   ]
  },
  {
   "cell_type": "code",
   "execution_count": 16,
   "metadata": {},
   "outputs": [
    {
     "name": "stdout",
     "output_type": "stream",
     "text": [
      "x was 21\n",
      "now x is 25\n"
     ]
    }
   ],
   "source": [
    "x = 21\n",
    "if x > 25:\n",
    "    print(\"x is already bigger than 25\")\n",
    "else:\n",
    "    print(\"x was\", x)\n",
    "    x = 25\n",
    "    print(\"now x is\", x)\n"
   ]
  },
  {
   "cell_type": "code",
   "execution_count": 17,
   "metadata": {},
   "outputs": [
    {
     "name": "stdout",
     "output_type": "stream",
     "text": [
      "Pass: x + 18 is equal to 36\n"
     ]
    }
   ],
   "source": [
    "x = 18\n",
    "if x + 18 == x + x:\n",
    "    print(\"Pass: x + 18 is equal to\", x + x)\n",
    "else:\n",
    "    print(\"Fail: x + 18 is not equal to\", x + x)\n"
   ]
  },
  {
   "cell_type": "code",
   "execution_count": 18,
   "metadata": {},
   "outputs": [
    {
     "name": "stdout",
     "output_type": "stream",
     "text": [
      "x is 18\n"
     ]
    }
   ],
   "source": [
    "x = 18\n",
    "test_value = 18\n",
    "if x != test_value:\n",
    "    print('x is not', test_value)\n",
    "else:\n",
    "    print('x is', test_value)\n",
    "\n"
   ]
  },
  {
   "cell_type": "code",
   "execution_count": 20,
   "metadata": {},
   "outputs": [
    {
     "name": "stdout",
     "output_type": "stream",
     "text": [
      "\"==\" tests for, is equal to\n"
     ]
    }
   ],
   "source": [
    "x = 2\n",
    "\n",
    "if x == 2:\n",
    "    print('\"==\" tests for, is equal to')\n",
    "else:\n",
    "    pass\n",
    "\n"
   ]
  },
  {
   "cell_type": "markdown",
   "metadata": {},
   "source": [
    "## Task 2\n",
    "##### Evaluating a comparison operator in if\n",
    "##### create an if/else statement that tests if y is greater than or equal x + x \n",
    "#####  print output: \"y greater than or equal x + x is\" True/False ...or a similar output\n",
    "##### x = 3\n",
    "##### y = x + 8\n"
   ]
  },
  {
   "cell_type": "code",
   "execution_count": 21,
   "metadata": {},
   "outputs": [
    {
     "name": "stdout",
     "output_type": "stream",
     "text": [
      "y is greater than or equal x+x\n"
     ]
    }
   ],
   "source": [
    "x = 3\n",
    "y = x + 8\n",
    "\n",
    "if y>=(x+x):\n",
    "    print(\"y is greater than or equal x+x\")\n",
    "else:\n",
    "    pass\n",
    "    "
   ]
  },
  {
   "cell_type": "code",
   "execution_count": 22,
   "metadata": {},
   "outputs": [
    {
     "ename": "SyntaxError",
     "evalue": "invalid syntax (<ipython-input-22-e193a8604b9a>, line 3)",
     "output_type": "error",
     "traceback": [
      "\u001b[1;36m  File \u001b[1;32m\"<ipython-input-22-e193a8604b9a>\"\u001b[1;36m, line \u001b[1;32m3\u001b[0m\n\u001b[1;33m    if assignment = 25:\u001b[0m\n\u001b[1;37m                  ^\u001b[0m\n\u001b[1;31mSyntaxError\u001b[0m\u001b[1;31m:\u001b[0m invalid syntax\n"
     ]
    }
   ],
   "source": [
    "     assignment = 25\n",
    "\n",
    "if assignment = 25:\n",
    "    print('use \"=\" to assign values')\n",
    "else:\n",
    "    pass\n"
   ]
  },
  {
   "cell_type": "markdown",
   "metadata": {},
   "source": [
    "# String Comparisons\n"
   ]
  },
  {
   "cell_type": "code",
   "execution_count": 23,
   "metadata": {},
   "outputs": [
    {
     "data": {
      "text/plain": [
       "False"
      ]
     },
     "execution_count": 23,
     "metadata": {},
     "output_type": "execute_result"
    }
   ],
   "source": [
    "\"hello\" < \"Hello\"\n"
   ]
  },
  {
   "cell_type": "code",
   "execution_count": 24,
   "metadata": {},
   "outputs": [
    {
     "data": {
      "text/plain": [
       "False"
      ]
     },
     "execution_count": 24,
     "metadata": {},
     "output_type": "execute_result"
    }
   ],
   "source": [
    "\"hello\" < \"Hello\""
   ]
  },
  {
   "cell_type": "code",
   "execution_count": 25,
   "metadata": {},
   "outputs": [
    {
     "data": {
      "text/plain": [
       "False"
      ]
     },
     "execution_count": 25,
     "metadata": {},
     "output_type": "execute_result"
    }
   ],
   "source": [
    "\"Aardvark\" > \"Zebra\"\n"
   ]
  },
  {
   "cell_type": "code",
   "execution_count": 26,
   "metadata": {},
   "outputs": [
    {
     "data": {
      "text/plain": [
       "True"
      ]
     },
     "execution_count": 26,
     "metadata": {},
     "output_type": "execute_result"
    }
   ],
   "source": [
    "'student' != 'Student'"
   ]
  },
  {
   "cell_type": "code",
   "execution_count": 27,
   "metadata": {},
   "outputs": [
    {
     "name": "stdout",
     "output_type": "stream",
     "text": [
      "'student' >= 'Student' is True\n",
      "'student' != 'Student' is True\n"
     ]
    }
   ],
   "source": [
    "print(\"'student' >= 'Student' is\", 'student' >= 'Student')\n",
    "print(\"'student' != 'Student' is\", 'student' != 'Student')\n"
   ]
  },
  {
   "cell_type": "code",
   "execution_count": 28,
   "metadata": {},
   "outputs": [
    {
     "data": {
      "text/plain": [
       "True"
      ]
     },
     "execution_count": 28,
     "metadata": {},
     "output_type": "execute_result"
    }
   ],
   "source": [
    "\"Hello \" + \"World!\" == \"Hello World!\"\n"
   ]
  },
  {
   "cell_type": "markdown",
   "metadata": {},
   "source": [
    "## Task 1\n",
    "##### String Comparisons\n",
    "##### msg = \"Hello\"\n",
    "##### print the True/False results of testing if msg string equals \"Hello\" string\n",
    "##### greeting = \"Hello\"\n",
    "##### get input for variable named msg, and ask user to 'Say \"Hello\"'\n",
    "##### print the results of testing if msg string equals greeting string\n"
   ]
  },
  {
   "cell_type": "code",
   "execution_count": 31,
   "metadata": {},
   "outputs": [
    {
     "name": "stdout",
     "output_type": "stream",
     "text": [
      "Enter a message: Hello\n",
      "True\n"
     ]
    }
   ],
   "source": [
    "msg = input(\"Enter a message: \")\n",
    "greeting = \"Hello\"\n",
    "\n",
    "print(msg == greeting)"
   ]
  },
  {
   "cell_type": "markdown",
   "metadata": {},
   "source": [
    "# String Comparison with if"
   ]
  },
  {
   "cell_type": "code",
   "execution_count": 32,
   "metadata": {},
   "outputs": [
    {
     "name": "stdout",
     "output_type": "stream",
     "text": [
      "message as expected\n"
     ]
    }
   ],
   "source": [
    "msg = \"Save the notebook\"\n",
    "\n",
    "if msg.lower() == \"save the notebook\":\n",
    "    print(\"message as expected\")\n",
    "else:\n",
    "    print(\"message not as expected\")\n"
   ]
  },
  {
   "cell_type": "code",
   "execution_count": 33,
   "metadata": {},
   "outputs": [
    {
     "name": "stdout",
     "output_type": "stream",
     "text": [
      "message as expected\n"
     ]
    }
   ],
   "source": [
    "msg = \"Save the notebook\"\n",
    "prediction = \"save the notebook\"\n",
    "\n",
    "if msg.lower() == prediction.lower():\n",
    "    print(\"message as expected\")\n",
    "else:\n",
    "    print(\"message not as expected\")\n"
   ]
  },
  {
   "cell_type": "markdown",
   "metadata": {},
   "source": [
    "## Task 2\n",
    "##### Conditionals: comparison operators with if\n",
    "##### get input for a variable, answer, and ask user 'What is 8 + 13? : '\n",
    "##### print messages for correct answer \"21\" or incorrect answer using if/else\n",
    "##### note: input returns a \"string\"\n",
    "\n"
   ]
  },
  {
   "cell_type": "code",
   "execution_count": 38,
   "metadata": {},
   "outputs": [
    {
     "name": "stdout",
     "output_type": "stream",
     "text": [
      "What is 8+13? 21\n",
      "Your answer is correct: 8+13=21\n"
     ]
    }
   ],
   "source": [
    "answer = input(\"What is 8+13? \")\n",
    "if int(answer) == 21:\n",
    "    print(\"Your answer is correct: 8+13=21\")\n",
    "else:\n",
    "    print(\"Your answer is incorrect: 8+13=21\")"
   ]
  },
  {
   "cell_type": "markdown",
   "metadata": {},
   "source": [
    "## Task 3\n",
    "###    Program: True False Quiz Function\n",
    "###        Call the tf_quiz function with 2 arguments\n",
    "###        T/F question string\n",
    "###         answer key string like \"T\"\n",
    "###         Return a string: \"correct\" or incorrect\"\n",
    "###         Return a string: \"correct\" or incorrect\"\n",
    "###         Define and use tf_quiz() function\n",
    "###         tf_quiz() has 2 parameters which are both string arguments\n",
    "###         question: a string containg a T/F question like \"Should save your notebook after edit?(T/F): \"\n",
    "###         correct_ans: a string indicating the correct answer, either \"T\" or \"F\"\n",
    "###         tf_quiz() returns a string: \"correct\" or \"incorrect\"\n",
    "###        Test tf_quiz(): create a T/F question (or several!) to call tf_quiz()\n",
    "\n",
    "\n"
   ]
  },
  {
   "cell_type": "code",
   "execution_count": 46,
   "metadata": {},
   "outputs": [
    {
     "name": "stdout",
     "output_type": "stream",
     "text": [
      "Incorrect\n"
     ]
    }
   ],
   "source": [
    "def tf_quiz(question,answer):\n",
    "    if (question,answer)==(\"Should save your notebook after edit?(T/F): \",\"T\"):\n",
    "        return \"Correct\"\n",
    "    else:\n",
    "        return \"Incorrect\"\n",
    "\n",
    "tf_eval = tf_quiz(\"Should save your notebook after edit?(T/F): \",\"F\")\n",
    "print(tf_eval)"
   ]
  },
  {
   "cell_type": "code",
   "execution_count": 45,
   "metadata": {},
   "outputs": [
    {
     "data": {
      "text/plain": [
       "True"
      ]
     },
     "execution_count": 45,
     "metadata": {},
     "output_type": "execute_result"
    }
   ],
   "source": [
    "_"
   ]
  },
  {
   "cell_type": "code",
   "execution_count": 1,
   "metadata": {},
   "outputs": [
    {
     "name": "stdout",
     "output_type": "stream",
     "text": [
      "False\n"
     ]
    }
   ],
   "source": [
    " name = \"Tobias\"\n",
    "\n",
    "print(name == \"Alton\")"
   ]
  },
  {
   "cell_type": "code",
   "execution_count": 2,
   "metadata": {},
   "outputs": [
    {
     "name": "stdout",
     "output_type": "stream",
     "text": [
      "Monday\n"
     ]
    }
   ],
   "source": [
    "day = \"monday\"\n",
    "print(day.capitalize())"
   ]
  },
  {
   "cell_type": "code",
   "execution_count": 3,
   "metadata": {},
   "outputs": [
    {
     "name": "stdout",
     "output_type": "stream",
     "text": [
      "Jin Xu is a string entry\n"
     ]
    }
   ],
   "source": [
    "  name = \"Jin Xu\"\n",
    "\n",
    "if type(name) == type(\"Hello\"):\n",
    "    print(name, \"is a string entry\")\n",
    "else:\n",
    "    print(name, \"is not a string entry\")\n",
    "\n",
    "    "
   ]
  },
  {
   "cell_type": "markdown",
   "metadata": {},
   "source": [
    "# Module 3 - Section 4: Conditions elif and casting"
   ]
  },
  {
   "cell_type": "markdown",
   "metadata": {},
   "source": [
    "### elif"
   ]
  },
  {
   "cell_type": "code",
   "execution_count": 5,
   "metadata": {},
   "outputs": [
    {
     "name": "stdout",
     "output_type": "stream",
     "text": [
      "Enter weather (sunny, rainy, snowy): snowy\n",
      "Wear a warm coat and hat\n"
     ]
    }
   ],
   "source": [
    "weather = input(\"Enter weather (sunny, rainy, snowy): \") \n",
    "\n",
    "if weather.lower() == \"sunny\":\n",
    "    print(\"Wear a t-shirt\")\n",
    "elif weather.lower() == \"rainy\":\n",
    "    print(\"Bring an umbrella and boots\")\n",
    "elif weather.lower() == \"snowy\":\n",
    "    print(\"Wear a warm coat and hat\")\n",
    "else:\n",
    "    print(\"Sorry, not sure what to suggest for\", weather)\n"
   ]
  },
  {
   "cell_type": "code",
   "execution_count": 6,
   "metadata": {},
   "outputs": [
    {
     "name": "stdout",
     "output_type": "stream",
     "text": [
      "Enter a guess for the secret number (1-3): 4\n",
      "4 is not a valid guess (1-3)\n"
     ]
    }
   ],
   "source": [
    "secret_num = \"2\"\n",
    "\n",
    "guess = input(\"Enter a guess for the secret number (1-3): \")\n",
    "\n",
    "if guess.isdigit() == False:\n",
    "    print(\"Invalid: guess should only use digits\")\n",
    "elif guess == \"1\":\n",
    "    print(\"Guess is too low\")\n",
    "elif guess == secret_num:\n",
    "    print(\"Guess is right\")\n",
    "elif guess == \"3\":\n",
    "    print(\"Guess is too high\")\n",
    "else:\n",
    "    print(guess, \"is not a valid guess (1-3)\")\n"
   ]
  },
  {
   "cell_type": "markdown",
   "metadata": {},
   "source": [
    "## Task 1\n",
    "##### Program: Shirt Sale\n",
    "##### Complete program using   if, elif, else\n",
    "##### Get user input for variable size (S, M, L)\n",
    "##### reply with each shirt size and price (Small = $ 6, Medium = $ 7, Large = $ 8)\n",
    "##### if the reply is other than S, M, L, give a message for not available\n",
    "##### optional: add additional sizes\n",
    "##### code and test SHIRT SALE\n",
    "\n",
    "\n"
   ]
  },
  {
   "cell_type": "code",
   "execution_count": 8,
   "metadata": {},
   "outputs": [
    {
     "name": "stdout",
     "output_type": "stream",
     "text": [
      "Enter your size (S,M,L): XL\n",
      "Out of Stock\n"
     ]
    }
   ],
   "source": [
    "size = input(\"Enter your size (S,M,L): \")\n",
    "\n",
    "if size.lower() == \"s\":\n",
    "    print(\"Small = $6\")\n",
    "elif size.lower() == \"m\":\n",
    "    print(\"Medium = $7\")\n",
    "elif size.lower() == \"l\":\n",
    "    print(\"Large == $8\")\n",
    "else:\n",
    "    print(\"Out of Stock\")"
   ]
  },
  {
   "cell_type": "markdown",
   "metadata": {},
   "source": [
    "# Casting"
   ]
  },
  {
   "cell_type": "code",
   "execution_count": 10,
   "metadata": {},
   "outputs": [
    {
     "name": "stdout",
     "output_type": "stream",
     "text": [
      "230\n"
     ]
    }
   ],
   "source": [
    "weight1 = '60' # a string\n",
    "weight2 = 170 # an integer\n",
    "total_weight = int(weight1) + weight2\n",
    "print(total_weight)\n"
   ]
  },
  {
   "cell_type": "markdown",
   "metadata": {},
   "source": [
    "## Task 2\n",
    "##### casting with int() & str()\n",
    "##### str_num_1 = \"11\"\n",
    "##### str_num_2 = \"15\"\n",
    "##### int_num_3 = 10\n",
    "### Add the 3 numbers as integers and print the result\n",
    "##### str_num_1 = \"11\"\n",
    "##### str_num_2 = \"15\"\n",
    "##### int_num_3 = 10\n",
    "### Add the 3 numbers as test strings and print the result\n"
   ]
  },
  {
   "cell_type": "code",
   "execution_count": 13,
   "metadata": {},
   "outputs": [
    {
     "name": "stdout",
     "output_type": "stream",
     "text": [
      "36\n",
      "111510\n"
     ]
    }
   ],
   "source": [
    "str_num_1 = \"11\"\n",
    "str_num_2 = \"15\"\n",
    "int_num_3 = 10\n",
    "\n",
    "# Adding numbers as integers\n",
    "result = int(str_num_1) + int(str_num_2) + int_num_3\n",
    "print(result)\n",
    "\n",
    "# Adding numbers as strings\n",
    "result = str_num_1 + str_num_2 + str(int_num_3)\n",
    "print(result)"
   ]
  },
  {
   "cell_type": "markdown",
   "metadata": {},
   "source": [
    "## Task 2 cont...\n",
    "##### Program: adding using int casting\n",
    "##### initialize str_integer variable to a string containing characters of an integer (quotes)\n",
    "##### initialize int_number variable with an integer value (no quotes)\n",
    "##### initialize number_total variable and add int_number + str_integer using int casting\n",
    "##### print the sum (number_total)\n",
    "### code and test: adding using int casting\n",
    "##### str_integer = \"2\"\n",
    "##### int_number = 10\n",
    "##### number_total = int(str_integer) + int_number\n",
    "##### print(number_total)\n"
   ]
  },
  {
   "cell_type": "code",
   "execution_count": 15,
   "metadata": {},
   "outputs": [
    {
     "name": "stdout",
     "output_type": "stream",
     "text": [
      "12\n"
     ]
    }
   ],
   "source": [
    "str_integer = \"2\"\n",
    "int_number = 10\n",
    "number_total = int(str_integer)+int_number\n",
    "print(number_total)"
   ]
  },
  {
   "cell_type": "markdown",
   "metadata": {},
   "source": [
    "# Example"
   ]
  },
  {
   "cell_type": "code",
   "execution_count": 16,
   "metadata": {},
   "outputs": [
    {
     "name": "stdout",
     "output_type": "stream",
     "text": [
      "enter student age (integer): 23\n",
      "Next year student will be 24\n"
     ]
    }
   ],
   "source": [
    "student_age = input('enter student age (integer): ')\n",
    "age_next_year = int(student_age) + 1\n",
    "print('Next year student will be',age_next_year)\n"
   ]
  },
  {
   "cell_type": "code",
   "execution_count": 17,
   "metadata": {},
   "outputs": [
    {
     "name": "stdout",
     "output_type": "stream",
     "text": [
      "enter student age (integer): 23\n",
      "In a decade the student will be 33\n"
     ]
    }
   ],
   "source": [
    "student_age = int(input('enter student age (integer): '))\n",
    "\n",
    "age_in_decade = student_age + 10\n",
    "\n",
    "print('In a decade the student will be', age_in_decade)\n",
    "\n"
   ]
  },
  {
   "cell_type": "markdown",
   "metadata": {},
   "source": [
    "## Task 3\n",
    "##### Program: adding calculator\n",
    "##### get input of 2 integer numbers\n",
    "##### cast the input and print the input followed by the result\n",
    "##### Output Example: 9 + 13 = 22\n",
    "##### Optional: check if input .isdigit() before trying integer addition to avoid errors in casting invalid inputs\n",
    "### code and test the adding calculator\n"
   ]
  },
  {
   "cell_type": "code",
   "execution_count": 3,
   "metadata": {},
   "outputs": [
    {
     "name": "stdout",
     "output_type": "stream",
     "text": [
      "Enter a integer number: 23\n",
      "Enter another integer number: 47\n",
      "23 + 47 = 70\n"
     ]
    }
   ],
   "source": [
    "num_1 = input(\"Enter a integer number: \")\n",
    "num_2 = input(\"Enter another integer number: \")\n",
    "\n",
    "if (num_1.isdigit())and(num_2.isdigit()):\n",
    "    result = int(num_1) + int(num_2)\n",
    "    print(num_1,\"+\",num_2,\"=\",result)\n",
    "else:\n",
    "    print(\"Input is not digits...Please enter valid input.\")"
   ]
  },
  {
   "cell_type": "code",
   "execution_count": 4,
   "metadata": {},
   "outputs": [
    {
     "name": "stdout",
     "output_type": "stream",
     "text": [
      "size is recorded\n"
     ]
    }
   ],
   "source": [
    "size_num = \"8 9 10\"\n",
    "\n",
    "size = \"8\" # user input\n",
    "\n",
    "if size.isdigit() == False:\n",
    "    print(\"Invalid: size should only use digits\")\n",
    "elif int(size) < 8:\n",
    "    print(\"size is too low\")\n",
    "elif size in size_num:\n",
    "    print(\"size is recorded\")\n",
    "else:\n",
    "    print(\"size is too high\")\n"
   ]
  },
  {
   "cell_type": "markdown",
   "metadata": {},
   "source": [
    "# Math basic operators\n"
   ]
  },
  {
   "cell_type": "code",
   "execution_count": 5,
   "metadata": {},
   "outputs": [
    {
     "name": "stdout",
     "output_type": "stream",
     "text": [
      "3 + 5 = 8\n",
      "3 + 5 - 9 = -1\n",
      "48/9 = 5.333333333333333\n",
      "5*5 = 25\n",
      "(14 - 8)*(19/4) = 28.5\n"
     ]
    }
   ],
   "source": [
    "print(\"3 + 5 =\",3 + 5)\n",
    "print(\"3 + 5 - 9 =\", 3 + 5 - 9)\n",
    "print(\"48/9 =\", 48/9)\n",
    "print(\"5*5 =\", 5*5)\n",
    "print(\"(14 - 8)*(19/4) =\", (14 - 8)*(19/4))\n"
   ]
  },
  {
   "cell_type": "code",
   "execution_count": 6,
   "metadata": {},
   "outputs": [
    {
     "name": "stdout",
     "output_type": "stream",
     "text": [
      "enter a non-decimal number you wish were bigger: 900\n",
      "Now you have 900000000\n"
     ]
    }
   ],
   "source": [
    "def million_maker():\n",
    "    make_big = input(\"enter a non-decimal number you wish were bigger: \")\n",
    "    return int(make_big)*1000000\n",
    "\n",
    "print(\"Now you have\", million_maker())"
   ]
  },
  {
   "cell_type": "markdown",
   "metadata": {},
   "source": [
    "### Task 1\n"
   ]
  },
  {
   "cell_type": "code",
   "execution_count": 7,
   "metadata": {},
   "outputs": [
    {
     "name": "stdout",
     "output_type": "stream",
     "text": [
      "43 - 15 = 28\n"
     ]
    }
   ],
   "source": [
    "# print the result of subtracting 15 from 43\n",
    "print(\"43 - 15 =\",43-15)"
   ]
  },
  {
   "cell_type": "code",
   "execution_count": 8,
   "metadata": {},
   "outputs": [
    {
     "name": "stdout",
     "output_type": "stream",
     "text": [
      "15 * 43 = 645\n"
     ]
    }
   ],
   "source": [
    "# print the result of multiplying 15 and 43\n",
    "print(\"15 * 43 =\",15*43)"
   ]
  },
  {
   "cell_type": "code",
   "execution_count": 9,
   "metadata": {},
   "outputs": [
    {
     "name": "stdout",
     "output_type": "stream",
     "text": [
      "156/12 = 13.0\n"
     ]
    }
   ],
   "source": [
    "print(\"156/12 =\",156/12)"
   ]
  },
  {
   "cell_type": "code",
   "execution_count": 10,
   "metadata": {},
   "outputs": [
    {
     "name": "stdout",
     "output_type": "stream",
     "text": [
      "21/0.5 = 42.0\n"
     ]
    }
   ],
   "source": [
    "print(\"21/0.5 =\",21/0.5)"
   ]
  },
  {
   "cell_type": "code",
   "execution_count": 11,
   "metadata": {},
   "outputs": [
    {
     "name": "stdout",
     "output_type": "stream",
     "text": [
      "111 + 84 - 45 = 139\n"
     ]
    }
   ],
   "source": [
    "print(\"111 + 84 - 45 =\",111+84-56)"
   ]
  },
  {
   "cell_type": "code",
   "execution_count": 12,
   "metadata": {},
   "outputs": [
    {
     "name": "stdout",
     "output_type": "stream",
     "text": [
      "(21 + 4)*4 = 100\n"
     ]
    }
   ],
   "source": [
    "print(\"(21 + 4)*4 =\",(21+4)*4)\n"
   ]
  },
  {
   "cell_type": "markdown",
   "metadata": {},
   "source": [
    "## Task 2\n",
    "##### Program: Multiplying Calculator Function\n",
    "##### define function multiply(), and within the function:\n",
    "##### gets user input() of 2 strings made of whole numbers\n",
    "##### cast the input to int()\n",
    "##### multiply the integers and return the equation with result as a str()\n",
    "##### return example\n",
    "##### 9 * 13 = 117\n",
    "\n",
    "\n",
    "### create and test multiply() function\n"
   ]
  },
  {
   "cell_type": "code",
   "execution_count": 14,
   "metadata": {},
   "outputs": [
    {
     "name": "stdout",
     "output_type": "stream",
     "text": [
      "Enter 1st whole number: 20\n",
      "Enter 2nd whole number: 40\n"
     ]
    },
    {
     "data": {
      "text/plain": [
       "'800'"
      ]
     },
     "execution_count": 14,
     "metadata": {},
     "output_type": "execute_result"
    }
   ],
   "source": [
    "def multiply():\n",
    "    num_1 = input(\"Enter 1st whole number: \")\n",
    "    num_2 = input(\"Enter 2nd whole number: \")\n",
    "    result = int(num_1)*int(num_2)\n",
    "    return str(result)\n",
    "\n",
    "multiply()"
   ]
  },
  {
   "cell_type": "markdown",
   "metadata": {},
   "source": [
    "## Task 3\n",
    "##### Project: Improved Multiplying Calculator Function\n",
    "##### putting together conditionals, input casting and math\n",
    "##### update the multiply() function to multiply or divide\n",
    "##### single parameter is operator with arguments of * or / operator\n",
    "##### default operator is \"*\" (multiply)\n",
    "##### return the result of multiplication or division\n",
    "##### if operator other than \"*\" or \"/\" then return \"Invalid Operator\"\n",
    "### create improved multiply() function and test with /, no argument, and an invalid operator ($)\n",
    "\n"
   ]
  },
  {
   "cell_type": "code",
   "execution_count": 21,
   "metadata": {},
   "outputs": [
    {
     "name": "stdout",
     "output_type": "stream",
     "text": [
      "Select '*' or '/': /\n",
      "Enter 1st whole number: 20\n",
      "Enter 2nd whole number: 50\n"
     ]
    },
    {
     "data": {
      "text/plain": [
       "'0.4'"
      ]
     },
     "execution_count": 21,
     "metadata": {},
     "output_type": "execute_result"
    }
   ],
   "source": [
    "user_selection = input(\"Select '*' or '/': \")\n",
    "\n",
    "def multiplyOrDivide(user_selection):\n",
    "    if user_selection == \"*\":\n",
    "        num_1 = input(\"Enter 1st whole number: \")\n",
    "        num_2 = input(\"Enter 2nd whole number: \")\n",
    "        result = int(num_1)*int(num_2)\n",
    "        return str(result)\n",
    "    elif user_selection == '/':\n",
    "        num_1 = input(\"Enter 1st whole number: \")\n",
    "        num_2 = input(\"Enter 2nd whole number: \")\n",
    "        result = int(num_1)/int(num_2)\n",
    "        return str(result)\n",
    "    else:\n",
    "        return \"Error:Invalid User Selection\"\n",
    "    \n",
    "        \n",
    "multiplyOrDivide(user_selection)"
   ]
  },
  {
   "cell_type": "markdown",
   "metadata": {},
   "source": [
    "## Task 4\n",
    "##### Fix the Errors\n"
   ]
  },
  {
   "cell_type": "code",
   "execution_count": 22,
   "metadata": {},
   "outputs": [
    {
     "ename": "SyntaxError",
     "evalue": "invalid syntax (<ipython-input-22-dfda90e2166d>, line 5)",
     "output_type": "error",
     "traceback": [
      "\u001b[1;36m  File \u001b[1;32m\"<ipython-input-22-dfda90e2166d>\"\u001b[1;36m, line \u001b[1;32m5\u001b[0m\n\u001b[1;33m    elif student_name.startswith(\"G\")\u001b[0m\n\u001b[1;37m                                     ^\u001b[0m\n\u001b[1;31mSyntaxError\u001b[0m\u001b[1;31m:\u001b[0m invalid syntax\n"
     ]
    }
   ],
   "source": [
    "# Review, run, fix \n",
    "student_name = input(\"enter name: \").capitalize()\n",
    "if student_name.startswith(\"F\"):\n",
    "    print(student_name,\"Congratulations, names starting with 'F' get to go first today!\")\n",
    "elif student_name.startswith(\"G\")\n",
    "    print(student_name,\"Congratulations, names starting with 'G' get to go second today!\")\n",
    "else:\n",
    "    print(student_name, \"please wait for students with names staring with 'F' and 'G' to go first today.\")\n",
    "\n"
   ]
  },
  {
   "cell_type": "code",
   "execution_count": 24,
   "metadata": {},
   "outputs": [
    {
     "name": "stdout",
     "output_type": "stream",
     "text": [
      "enter name: Prachi\n",
      "Prachi please wait for students with names starting with 'F' and 'G' to go first today.\n"
     ]
    }
   ],
   "source": [
    "# Review, run, fix \n",
    "student_name = input(\"enter name: \").capitalize()\n",
    "if student_name.startswith(\"F\"):\n",
    "    print(student_name,\"Congratulations, names starting with 'F' get to go first today!\")\n",
    "elif student_name.startswith(\"G\"):\n",
    "    print(student_name,\"Congratulations, names starting with 'G' get to go second today!\")\n",
    "else:\n",
    "    print(student_name, \"please wait for students with names starting with 'F' and 'G' to go first today.\")\n",
    "\n"
   ]
  },
  {
   "cell_type": "code",
   "execution_count": 28,
   "metadata": {},
   "outputs": [
    {
     "name": "stdout",
     "output_type": "stream",
     "text": [
      "21\n",
      "12\n"
     ]
    }
   ],
   "source": [
    "#Practise\n",
    "x = 3 + 9 * 2\n",
    "print(x)\n",
    "\n",
    "x = 3\n",
    "y = 4\n",
    "calculation = x*y\n",
    "print(calculation)"
   ]
  },
  {
   "cell_type": "code",
   "execution_count": 29,
   "metadata": {},
   "outputs": [
    {
     "name": "stdout",
     "output_type": "stream",
     "text": [
      "13.0\n"
     ]
    }
   ],
   "source": [
    "  calculation = 5 + 15 / 5 + 3 * 2 - 1\n",
    "print(calculation)"
   ]
  },
  {
   "cell_type": "markdown",
   "metadata": {},
   "source": [
    "# Module 3 Practice - notebook 4\n"
   ]
  },
  {
   "cell_type": "code",
   "execution_count": 36,
   "metadata": {},
   "outputs": [
    {
     "name": "stdout",
     "output_type": "stream",
     "text": [
      "Enter digit: 13\n",
      "Age in 10 years: 13 + 10 = 23\n"
     ]
    }
   ],
   "source": [
    "# if else\n",
    "# [ ] input a variable: age as digit and cast to int\n",
    "# if age greater than or equal to 12 then print message on age in 10 years \n",
    "# or else print message \"It is good to be\" age\n",
    "\n",
    "age = input(\"Enter digit: \")\n",
    "\n",
    "if age >= \"12\":\n",
    "    print(\"Age in 10 years:\",age,\"+ 10 =\",int(age)+10)\n",
    "else:\n",
    "    print(\"It is good to be\",age)"
   ]
  },
  {
   "cell_type": "code",
   "execution_count": 40,
   "metadata": {},
   "outputs": [
    {
     "name": "stdout",
     "output_type": "stream",
     "text": [
      "Enter a number: A10\n",
      "Only int is accepted\n"
     ]
    }
   ],
   "source": [
    "# [ ] input a number \n",
    "# - if number IS a digit string then cast to int\n",
    "# - print number \"greater than 100 is\" True/False\n",
    "# - if number is NOT a digit string then message the user that \"only int is accepted\"\n",
    "\n",
    "num = input(\"Enter a number: \")\n",
    "if num.isdigit():\n",
    "    num = int(num)\n",
    "    if num > 100:\n",
    "        print(\"True\")\n",
    "    else:\n",
    "        print(\"False\")\n",
    "else:\n",
    "    print(\"Only int is accepted\")"
   ]
  },
  {
   "cell_type": "markdown",
   "metadata": {},
   "source": [
    "### Guessing a letter A-Z\n",
    "### check_guess() takes 2 string arguments: letter and guess (both expect single alphabetical character)\n",
    "### - if guess is not an alpha character print invalid and return False - test and print if guess is \"high\" or \"low\" and ### return False - test and print if guess is \"correct\" and return True\n",
    "\n"
   ]
  },
  {
   "cell_type": "code",
   "execution_count": 49,
   "metadata": {},
   "outputs": [
    {
     "name": "stdout",
     "output_type": "stream",
     "text": [
      "low\n",
      "Enter a letter: C\n",
      "Guess the letter: c\n",
      "high\n"
     ]
    }
   ],
   "source": [
    "# [ ] create check_guess()\n",
    "\n",
    "\n",
    "def check_guess(letter, guess):\n",
    "    if(len(guess)==1):\n",
    "        if guess.isalpha() == False:\n",
    "            print(\"Invalid\")\n",
    "            return False\n",
    "        else:\n",
    "            if guess>letter:\n",
    "                print (\"high\")\n",
    "            elif guess<letter:\n",
    "                print(\"low\")\n",
    "            else:\n",
    "                print(\"correct\")\n",
    "                return True\n",
    "    else:\n",
    "        print(\"Guess should be '1' character long\")\n",
    "# call with test\n",
    "check_guess('a','A')\n",
    "\n",
    "# [ ] call check_guess with user input\n",
    "check_guess(input(\"Enter a letter: \"),input(\"Guess the letter: \"))"
   ]
  },
  {
   "cell_type": "markdown",
   "metadata": {},
   "source": [
    "### Letter Guess\n",
    "### create letter_guess() function that gives user 3 guesses\n",
    "### takes a letter character argument for the answer letter\n",
    "### gets user input for letter guess\n",
    "### calls check_guess() with answer and guess\n",
    "### End letter_guess if\n",
    "### check_guess() equals True, return True\n",
    "### or after 3 failed attempts, return False\n"
   ]
  },
  {
   "cell_type": "code",
   "execution_count": null,
   "metadata": {},
   "outputs": [],
   "source": [
    "\n",
    "def letter_guess(letter,tries):\n",
    "    \n",
    "    if tries<3:\n",
    "        guess = input(\"Guess the letter: \")\n",
    "        print(guess)\n",
    "        result = check_guess(letter,guess,tries)\n",
    "        print(\"hiii...............\")\n",
    "        print(result == \"True\")\n",
    "        print(\"Hello..................\")\n",
    "        if result == \"True\":\n",
    "            return \"True\"\n",
    "        else:\n",
    "            return \"False\"\n",
    "\n",
    "def check_guess(letter,guess,tries):\n",
    "    print(letter,guess,tries)\n",
    "    print(guess.upper())\n",
    "    if letter == guess.upper():\n",
    "        print(\"Guessed correct!\")\n",
    "        return \"True\"\n",
    "    else:\n",
    "        tries=tries+1\n",
    "        letter_guess(letter,tries)\n",
    "        \n",
    "            \n",
    "letter = 'S'\n",
    "tries = 0            \n",
    "print(letter_guess(letter,tries))"
   ]
  },
  {
   "cell_type": "code",
   "execution_count": null,
   "metadata": {
    "collapsed": true
   },
   "outputs": [],
   "source": [
    "a"
   ]
  },
  {
   "cell_type": "code",
   "execution_count": null,
   "metadata": {
    "collapsed": true
   },
   "outputs": [],
   "source": []
  },
  {
   "cell_type": "code",
   "execution_count": null,
   "metadata": {
    "collapsed": true
   },
   "outputs": [],
   "source": []
  }
 ],
 "metadata": {
  "kernelspec": {
   "display_name": "Python 3",
   "language": "python",
   "name": "python3"
  },
  "language_info": {
   "codemirror_mode": {
    "name": "ipython",
    "version": 3
   },
   "file_extension": ".py",
   "mimetype": "text/x-python",
   "name": "python",
   "nbconvert_exporter": "python",
   "pygments_lexer": "ipython3",
   "version": "3.6.3"
  }
 },
 "nbformat": 4,
 "nbformat_minor": 2
}
